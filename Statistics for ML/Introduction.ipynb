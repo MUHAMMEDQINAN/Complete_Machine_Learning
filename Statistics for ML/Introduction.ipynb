{
 "cells": [
  {
   "cell_type": "markdown",
   "id": "909f74d8-3eec-452b-8b18-8c5e1ec15d9b",
   "metadata": {},
   "source": [
    "\n",
    "\n",
    "## **What is Data?**\n",
    "Data is a fact or piece of information that can be measured\n",
    "\n",
    "## **Types of Data**\n",
    "\n",
    "### **1. Based on Measurement Levels**\n",
    "1. **Numerical (Quantitative Data)** - Represents measurable quantities (numbers).\n",
    "   - **Discrete Data**: Countable values (e.g., number of students, number of cars).\n",
    "   - **Continuous Data**: Measured values with infinite possibilities (e.g., height, weight, temperature).\n",
    "\n",
    "2. **Categorical (Qualitative Data)** - Represents categories or labels.\n",
    "   - **Nominal Data**: Categories without any order (e.g., colors, gender, country names).\n",
    "   - **Ordinal Data**: Categories with a meaningful order (e.g., education level, customer satisfaction).\n",
    "\n",
    "### **2. Based on Source**\n",
    "1. **Structured Data** - Organized in tables or databases (e.g., CSV files, SQL databases).\n",
    "2. **Unstructured Data** - No fixed format, such as text, images, videos.\n",
    "3. **Semi-structured Data** - Contains some structure but not fully organized (e.g., JSON, XML).\n",
    "\n",
    "### **3. Based on Data Usage in Machine Learning**\n",
    "1. **Training Data** - Used to train the model.\n",
    "2. **Validation Data** - Used for tuning hyperparameters.\n",
    "3. **Test Data** - Used to evaluate model performance.\n",
    "\n"
   ]
  },
  {
   "cell_type": "markdown",
   "id": "9a873312-59a0-4847-84aa-4b4da4a65da5",
   "metadata": {},
   "source": [
    "\n",
    "\n",
    "## **What is Statistics?**\n",
    "Statistics is the study of collecting, organizing, analyzing, and interpreting data. It helps in making decisions based on data.\n",
    "\n",
    "## **Types of Statistics**\n",
    "\n",
    "### **1. Descriptive Statistics**\n",
    "- Summarizes and describes the main features of a dataset.\n",
    "- Used to understand data before applying machine learning.\n",
    "- Examples:\n",
    "  - **Measures of Central Tendency** (Mean, Median, Mode)\n",
    "  - **Measures of Dispersion** (Variance, Standard Deviation, Range)\n",
    "  - **Data Visualization** (Histograms, Box Plots, Bar Charts)\n",
    "\n",
    "### **2. Inferential Statistics**\n",
    "- Helps in making predictions or generalizations about a population using a sample.\n",
    "- Used to test hypotheses in machine learning.\n",
    "- Examples:\n",
    "  - **Hypothesis Testing** (T-tests, Chi-square test)\n",
    "  - **Confidence Intervals** (Estimating population parameters)\n",
    "  - **Regression Analysis** (Predicting relationships between variables)\n",
    "\n",
    "## **Importance in Machine Learning**\n",
    "- Descriptive statistics help in **data understanding** and preprocessing.\n",
    "- Inferential statistics help in **model evaluation** and hypothesis testing.\n",
    "\n",
    "Understanding statistics is essential for building accurate and reliable machine learning models.\n"
   ]
  },
  {
   "cell_type": "markdown",
   "id": "3999626c-4f2d-4ae3-b931-6e9cd631e04f",
   "metadata": {},
   "source": [
    "# **Population and Sample**\n",
    "\n",
    "## **1. Population**\n",
    "- A population refers to the **entire set of data** or individuals that we are interested in studying.\n",
    "- Example:\n",
    "  - All Eligible voters\n",
    "  - All patients in a hospital.\n",
    "\n",
    "## **2. Sample**\n",
    "- A sample is a **subset** of the population used for analysis.\n",
    "- Since studying an entire population is often impractical, we analyze a smaller sample.\n",
    "- Example:\n",
    "  - group of voters surveyed to predict result\n",
    "  - 200 patients selected from a hospital.\n",
    "\n",
    "## **Sampling Methods**\n",
    "1. **Random Sampling** – Every individual has an equal chance of being selected.\n",
    "2. **Stratified Sampling** – Population is divided into groups, and samples are taken from each group.\n",
    "3. **Systematic Sampling** – Selecting every *k-th* individual from a list.\n",
    "4. **Convenience Sampling** – Choosing individuals who are easiest to reach.\n",
    "\n",
    "## **Key Differences**\n",
    "| Feature     | Population | Sample |\n",
    "|------------|-----------|--------|\n",
    "| Definition | Entire group of interest | Subset of the population |\n",
    "| Size       | Large (or infinite) | Small (manageable) |\n",
    "| Purpose    | True representation of all individuals | Used to infer conclusions about the population |\n",
    "\n",
    "In Machine Learning, we often work with **samples** to train models and generalize results to the **population**.\n"
   ]
  }
 ],
 "metadata": {
  "kernelspec": {
   "display_name": "Python 3 (ipykernel)",
   "language": "python",
   "name": "python3"
  },
  "language_info": {
   "codemirror_mode": {
    "name": "ipython",
    "version": 3
   },
   "file_extension": ".py",
   "mimetype": "text/x-python",
   "name": "python",
   "nbconvert_exporter": "python",
   "pygments_lexer": "ipython3",
   "version": "3.12.7"
  }
 },
 "nbformat": 4,
 "nbformat_minor": 5
}
